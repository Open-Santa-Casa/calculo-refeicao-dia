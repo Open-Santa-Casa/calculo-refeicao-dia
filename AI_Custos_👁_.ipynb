{
  "nbformat": 4,
  "nbformat_minor": 0,
  "metadata": {
    "colab": {
      "provenance": [],
      "authorship_tag": "ABX9TyMTR9+QuurnwpWC5lWf9CKd",
      "include_colab_link": true
    },
    "kernelspec": {
      "name": "python3",
      "display_name": "Python 3"
    },
    "language_info": {
      "name": "python"
    }
  },
  "cells": [
    {
      "cell_type": "markdown",
      "metadata": {
        "id": "view-in-github",
        "colab_type": "text"
      },
      "source": [
        "<a href=\"https://colab.research.google.com/github/Open-Santa-Casa/calculo-refeicao-dia/blob/main/AI_Custos_%F0%9F%91%81_.ipynb\" target=\"_parent\"><img src=\"https://colab.research.google.com/assets/colab-badge.svg\" alt=\"Open In Colab\"/></a>"
      ]
    },
    {
      "cell_type": "markdown",
      "source": [
        "# AI Gestão de Custos\n",
        "\n",
        "## Hipoteses 🧫🧪⚗️\n",
        "\n",
        "### Pontos de Inferência 🔀\n",
        "\n",
        "- Existência e Proporção de recisões de mês anterior e redução de custo bruto da folha\n",
        "- Aumento de Inflação, SELIC, Dólar e outros indicadores em custo de refeição e custo de tratamento médico\n",
        "- Aumento de Inflação, SELIC, Dólar e outros indicadores na adesão de plano de saúde por funcionários\n",
        "\n",
        "\n",
        "#### Inferência como Indicador Dado Falho ⚠️\n",
        "\n",
        "- Aumento expressivo em impostos (FGTS, IR, INSS) sem aumento proporcinal real da folha \n",
        "- Variância entre meses acima da média de variância ou acima da variância dos últimos meses\n",
        "\n",
        "## Tarefas 💭\n",
        "\n",
        "- Previsão de custos por setor 🔮\n",
        "- Previsão de custos por serviço 🔮\n",
        "- Análise Horizontal e Vertical dos Resultados 🔍  \n",
        "- Análise da confiabilidade de novos dados 🛡️\n",
        "- Ponto de insolvência ⚖️\n",
        "- Mapeamento de causa e efeito \n",
        "\n",
        "### Bibliotecas utilizadas\n",
        "https://docs.gspread.org/en/v5.7.0/\n"
      ],
      "metadata": {
        "id": "rUZwHo8eK1xu"
      }
    },
    {
      "cell_type": "code",
      "source": [
        "from google.colab import auth\n",
        "auth.authenticate_user()\n",
        "\n",
        "import gspread\n",
        "from google.auth import default\n",
        "creds, _ = default()\n",
        "\n",
        "gc = gspread.authorize(creds)\n",
        "\n",
        "worksheet = gc.open('Your spreadsheet name').sheet1\n",
        "\n",
        "# get_all_values gives a list of rows.\n",
        "rows = worksheet.get_all_values()\n",
        "print(rows)\n",
        "\n",
        "# Convert to a DataFrame and render.\n",
        "import pandas as pd\n",
        "pd.DataFrame.from_records(rows)"
      ],
      "metadata": {
        "id": "oXdxTntGLcNu"
      },
      "execution_count": null,
      "outputs": []
    }
  ]
}